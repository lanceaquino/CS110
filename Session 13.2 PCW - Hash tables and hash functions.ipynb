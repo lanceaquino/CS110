{
 "cells": [
  {
   "cell_type": "markdown",
   "metadata": {},
   "source": [
    "Before you turn this problem in, make sure everything runs as expected. First, **restart the kernel** (in the menubar, select Kernel$\\rightarrow$Restart) and then **run all cells** (in the menubar, select Cell$\\rightarrow$Run All).\n",
    "\n",
    "Note that this Pre-class Work is estimated to take **45 minutes**.\n",
    "\n",
    "Make sure you fill in any place that says `YOUR CODE HERE` or \"YOUR ANSWER HERE\", as well as your name and collaborators below:"
   ]
  },
  {
   "cell_type": "code",
   "execution_count": 4,
   "metadata": {},
   "outputs": [],
   "source": [
    "NAME = \"Lance\"\n",
    "COLLABORATORS = \"\""
   ]
  },
  {
   "cell_type": "markdown",
   "metadata": {},
   "source": [
    "---"
   ]
  },
  {
   "cell_type": "markdown",
   "metadata": {
    "deletable": false,
    "editable": false,
    "nbgrader": {
     "checksum": "4d981108d5cc409ac26cfbe6fa53cb1f",
     "grade": false,
     "grade_id": "cell-5b237cc13279b029",
     "locked": true,
     "schema_version": 1,
     "solution": false
    }
   },
   "source": [
    "# CS110 Pre-class Work - Hash tables and hash functions\n",
    "\n",
    "## Part A. Direct Address Tables [time estimate: 10 minutes]\n",
    "\n",
    "As the first step in setting up a crossword solving algorithm you need to create 2 direct address tables, one to store all the “up” answers - whether correct or not - and one to store all the “across” answers. Write python code to create a direct address table that allows you to:\n",
    "\n",
    "1. initialize N empty guesses\n",
    "2. set a guess for the i-th entry\n",
    "3. clear an incorrect guess for the i-th entry\n"
   ]
  },
  {
   "cell_type": "code",
   "execution_count": 166,
   "metadata": {
    "deletable": false,
    "nbgrader": {
     "checksum": "69e5d714c7245702b8732209ea0b2b42",
     "grade": true,
     "grade_id": "cell-d8d2e3c1b136cdb9",
     "locked": false,
     "points": 0,
     "schema_version": 1,
     "solution": true
    }
   },
   "outputs": [
    {
     "name": "stdout",
     "output_type": "stream",
     "text": [
      "['glass', [], 'candy']\n",
      "['harder', 'dots', 'failure']\n",
      "[True, False, False] \n",
      " [False, True, False]\n"
     ]
    }
   ],
   "source": [
    "# Create correct list and their respective keys \n",
    "up = ['glass', 'chips', 'paper']\n",
    "across = ['mouse', 'dots', 'acrylic']\n",
    "\n",
    "class crossword_puzzle:\n",
    "    \n",
    "    def __init__(self,n): # Initialize empty list for guesses \n",
    "        self.up = [[] for i in range(n)]\n",
    "        self.across = [[] for i in range(n)] \n",
    "    \n",
    "    def guess(self, direction, idx, word): # create guesses \n",
    "        if direction == 'up':\n",
    "            for i in range(len(self.up)):\n",
    "                if i == idx:\n",
    "                    self.up[i] = word\n",
    "                else: \n",
    "                    continue \n",
    "        \n",
    "        else:\n",
    "            for i in range(len(self.across)):\n",
    "                if i == idx:\n",
    "                    self.across[i] = word \n",
    "                else:\n",
    "                    continue\n",
    "\n",
    "    def check(self, up, across): # check if guess words are correct\n",
    "        r_up = [[] for i in range(len(up))]\n",
    "        r_across = [[] for i in range(len(across))]\n",
    "\n",
    "        for i in range(len(up)):\n",
    "            if self.up[i] == up[i]:\n",
    "                r_up[i] = True \n",
    "            else:\n",
    "                r_up[i] = False \n",
    "\n",
    "        for i in range(len(across)):\n",
    "            if self.across[i] == across[i]:\n",
    "                r_across[i] = True\n",
    "            else:\n",
    "                r_across[i] = False \n",
    "\n",
    "        print(r_up, '\\n', r_across)\n",
    "        \n",
    "    def clear(self, direction, idx): # clear specific guess \n",
    "        if direction == 'up':\n",
    "            for i, item in enumerate(self.up):\n",
    "                if idx == i:\n",
    "                    self.up[i] = []\n",
    "            \n",
    "        else:\n",
    "            for i, item in enumerate(self.across):\n",
    "                if idx == i:\n",
    "                    self.across[i] = []\n",
    "\n",
    "t = crossword_puzzle(3)\n",
    "\n",
    "t.guess('up', 0, 'glass')\n",
    "t.guess('up', 1, 'chips')\n",
    "t.guess('up', 2, 'candy')\n",
    "t.guess('across', 0, 'harder')\n",
    "t.guess('across', 1, 'dots')\n",
    "t.guess('across', 2, 'failure')\n",
    "\n",
    "t.clear('up', 1)\n",
    "\n",
    "print(t.up)\n",
    "print(t.across)\n",
    "\n",
    "t.check(up, across)\n",
    "            \n",
    "\n"
   ]
  },
  {
   "cell_type": "markdown",
   "metadata": {
    "deletable": false,
    "editable": false,
    "nbgrader": {
     "checksum": "cdb562114e50f9ce1c97be3536b59efa",
     "grade": false,
     "grade_id": "cell-b27891b3ff16f730",
     "locked": true,
     "schema_version": 1,
     "solution": false
    }
   },
   "source": [
    "## Part B. Social Security [time estimate: 3 minutes]\n",
    "\n",
    "Could we use a direct address table to store a country's entire set of social security numbers (aka id numbers)? Why or why not?\n"
   ]
  },
  {
   "cell_type": "markdown",
   "metadata": {
    "deletable": false,
    "nbgrader": {
     "checksum": "7b193e66cbea5bd9dac131a3d6adfefa",
     "grade": true,
     "grade_id": "cell-e751647d9af78c11",
     "locked": false,
     "points": 0,
     "schema_version": 1,
     "solution": true
    }
   },
   "source": [
    "There are over 420 million SSN numbers at the moment and that value is too large that direct-addressing will have a hard time handling. Note that when we are searching for a value, we would need to know the index, since we have over 420 million possible indexes, it will be hard for us to navigate throughout our list. "
   ]
  },
  {
   "cell_type": "markdown",
   "metadata": {
    "deletable": false,
    "editable": false,
    "nbgrader": {
     "checksum": "35f74a7f882cabb36df7ee2c43ee51db",
     "grade": false,
     "grade_id": "cell-cba2028918eea1fd",
     "locked": true,
     "schema_version": 1,
     "solution": false
    }
   },
   "source": [
    "## Part C. Chained Hash-table [time estimate: 32 minutes]\n",
    "\n",
    "### Question 1 [time estimate: 7 minutes]\n",
    "\n",
    "Using the code in the cell below, complete the missing sections of code. You should copy and paste the code in an additional cell and fill in the code there."
   ]
  },
  {
   "cell_type": "code",
   "execution_count": 67,
   "metadata": {
    "deletable": false,
    "editable": false,
    "nbgrader": {
     "checksum": "ffc1d9c145de9e5c52f96dfdc8a66fe2",
     "grade": false,
     "grade_id": "cell-9e41d88b035338f4",
     "locked": true,
     "schema_version": 1,
     "solution": false
    }
   },
   "outputs": [],
   "source": [
    "import random\n",
    "import string\n",
    "\n",
    "\n",
    "def randomword(length):\n",
    "    return ''.join(random.choice(string.ascii_lowercase) for i in range(length))\n",
    "\n",
    "\n",
    "def empty_hash_table(N):\n",
    "    return [[] for n in range(N)]\n",
    "\n",
    "\n",
    "# def add_to_hash_table(hash_table, item, hash_function):\n",
    "#     N = len(hash_table)\n",
    "#     # YOUR CODE HERE\n",
    "#     return hash_table\n",
    "def add_to_hash_table(hash_table, item, hash_function):\n",
    "    N = len(hash_table)\n",
    "    x_key = hash_function(item) % N\n",
    "    hash_table[x_key].append(item) \n",
    "\n",
    "    return hash_table\n",
    "\n",
    "\n",
    "# def contains(hash_table, item, hash_function):\n",
    "#     N = len(hash_table)\n",
    "#     # YOUR CODE HERE\n",
    "#     # return true if the item has already been stored in the hash_table\n",
    "def contains(hash_table, item, hash_function):\n",
    "    N = len(hash_table)\n",
    "    x_key = hash_function(item) % N\n",
    "    if item in hash_table[x_key]:\n",
    "        return True \n",
    "    else:\n",
    "        return False \n",
    "\n",
    "\n",
    "# def remove(hash_table, item, hash_function):\n",
    "#     if not contains(hash_table, item, hash_function):\n",
    "#         raise ValueError()\n",
    "#     # YOUR CODE HERE\n",
    "#     return hash_table\n",
    "def remove(hash_table, item, hash_function):\n",
    "    if not contains(hash_table, item, hash_function):\n",
    "        raise ValueError()\n",
    "    \n",
    "    x_key = hash_function(item) % N\n",
    "    for idx, val in enumerate(hash_table[x_key]):\n",
    "        if item == val:\n",
    "            del hash_table[x_key][idx]\n",
    "\n",
    "    return hash_table\n",
    "\n",
    "\n",
    "# Hash Functions\n",
    "def hash_str1(string):\n",
    "    ans = 0\n",
    "    for chr in string:\n",
    "        ans += ord(chr)\n",
    "    return ans\n",
    "\n",
    "def hash_str2(string):\n",
    "    ans=int(ord(string[0]))\n",
    "    for ix in range(1, len(string)):\n",
    "        ans = ans ^ ord(string[ix]) \n",
    "    return int(bin(ans).split('b')[1])\n",
    "\n",
    "def hash_str3(string):\n",
    "    ans = 0\n",
    "    for chr in string:\n",
    "        ans = ans * 128 + ord(chr)\n",
    "    return ans\n",
    "\n",
    "def hash_str4(string):\n",
    "    random.seed(ord(string[0]))\n",
    "    return random.getrandbits(32)"
   ]
  },
  {
   "cell_type": "code",
   "execution_count": null,
   "metadata": {
    "deletable": false,
    "nbgrader": {
     "checksum": "b39c1af2de8a4581d16a2d630fcaac74",
     "grade": true,
     "grade_id": "cell-1b6cc6df105c101f",
     "locked": false,
     "points": 0,
     "schema_version": 1,
     "solution": true
    }
   },
   "outputs": [],
   "source": [
    "# YOUR CODE HERE\n",
    "raise NotImplementedError()"
   ]
  },
  {
   "cell_type": "markdown",
   "metadata": {
    "deletable": false,
    "editable": false,
    "nbgrader": {
     "checksum": "d323c68243f6d1fe79cbf5ad01ee85ae",
     "grade": false,
     "grade_id": "cell-66fb150dd2e509a7",
     "locked": true,
     "schema_version": 1,
     "solution": false
    }
   },
   "source": [
    "### Question 2 [time estimate: 2 minutes]\n",
    "\n",
    "Using the code, create 100,000 words of 10 characters each."
   ]
  },
  {
   "cell_type": "code",
   "execution_count": 117,
   "metadata": {
    "deletable": false,
    "nbgrader": {
     "checksum": "b9d2f1faad23eecd6f3691968bb4e455",
     "grade": true,
     "grade_id": "cell-234b1e83c871ddc7",
     "locked": false,
     "points": 0,
     "schema_version": 1,
     "solution": true
    }
   },
   "outputs": [
    {
     "name": "stdout",
     "output_type": "stream",
     "text": [
      "100000\n"
     ]
    }
   ],
   "source": [
    "word_bank = []\n",
    "\n",
    "for i in range(100000):\n",
    "    word_bank.append(randomword(10))\n",
    "    \n",
    "print(len(word_bank))"
   ]
  },
  {
   "cell_type": "markdown",
   "metadata": {
    "deletable": false,
    "editable": false,
    "nbgrader": {
     "checksum": "190e7fdc00fc311f5ff32a390fff1ca4",
     "grade": false,
     "grade_id": "cell-2fbadca52cec7230",
     "locked": true,
     "schema_version": 1,
     "solution": false
    }
   },
   "source": [
    "### Question 3 [time estimate: 2 minutes]\n",
    "\n",
    "Create four chained hash-tables with 5000 slots."
   ]
  },
  {
   "cell_type": "code",
   "execution_count": 118,
   "metadata": {
    "deletable": false,
    "nbgrader": {
     "checksum": "0d1473300ae336ceb57d11687ab3ec0a",
     "grade": true,
     "grade_id": "cell-2dabefc41493ec16",
     "locked": false,
     "points": 0,
     "schema_version": 1,
     "solution": true
    }
   },
   "outputs": [],
   "source": [
    "hash1 = empty_hash_table(5000)\n",
    "hash2 = empty_hash_table(5000)\n",
    "hash3 = empty_hash_table(5000)\n",
    "hash4 = empty_hash_table(5000)"
   ]
  },
  {
   "cell_type": "markdown",
   "metadata": {
    "deletable": false,
    "editable": false,
    "nbgrader": {
     "checksum": "c3d147917ae237a6dc75eddab48dbaa6",
     "grade": false,
     "grade_id": "cell-cc2e6d00330e691e",
     "locked": true,
     "schema_version": 1,
     "solution": false
    }
   },
   "source": [
    "### Question 4 [time estimate: 2 minutes]\n",
    "\n",
    "Store all the words in each chained hash table using each of the different hash functions."
   ]
  },
  {
   "cell_type": "code",
   "execution_count": 119,
   "metadata": {
    "deletable": false,
    "nbgrader": {
     "checksum": "af209dceb17bf5f8d9fadf0808855f79",
     "grade": true,
     "grade_id": "cell-8a08ade8d45590a7",
     "locked": false,
     "points": 0,
     "schema_version": 1,
     "solution": true
    }
   },
   "outputs": [],
   "source": [
    "def store_words(hash_table, hash_function):\n",
    "    \"\"\"\n",
    "    Adds randomly chosen words from a word bank to the hash table \n",
    "    Inputs:\n",
    "        - hash table\n",
    "        - hash function \n",
    "    Outputs:\n",
    "        - Populated hash table with respective hash function \n",
    "    \"\"\"\n",
    "    sample = random.sample(word_bank, len(hash_table)-1)\n",
    "    \n",
    "    for i in sample:\n",
    "        add_to_hash_table(hash_table, i, hash_function)\n",
    "        \n",
    "    return hash_table \n",
    "\n",
    "hash1 = store_words(hash1, hash_str1)\n",
    "hash2 = store_words(hash2, hash_str2)\n",
    "hash3 = store_words(hash3, hash_str3)\n",
    "hash4 = store_words(hash4, hash_str4)\n"
   ]
  },
  {
   "cell_type": "markdown",
   "metadata": {
    "deletable": false,
    "editable": false,
    "nbgrader": {
     "checksum": "858437d142a66b825fb0bebdb1c4d9fe",
     "grade": false,
     "grade_id": "cell-da2c8b42618fbde4",
     "locked": true,
     "schema_version": 1,
     "solution": false
    }
   },
   "source": [
    "### Question 5 [time estimate: 4 minutes]\n",
    "\n",
    "Measure the number of collisions for each hash function."
   ]
  },
  {
   "cell_type": "code",
   "execution_count": 120,
   "metadata": {
    "deletable": false,
    "nbgrader": {
     "checksum": "156f57bc1c6c1a3e10ca1804aa205099",
     "grade": true,
     "grade_id": "cell-a968f9e14a0416c4",
     "locked": false,
     "points": 0,
     "schema_version": 1,
     "solution": true
    }
   },
   "outputs": [
    {
     "name": "stdout",
     "output_type": "stream",
     "text": [
      "131\n",
      "16\n",
      "1346\n",
      "26\n"
     ]
    }
   ],
   "source": [
    "def collisions(hash_table):\n",
    "    \"\"\"\n",
    "    Counts the number of collisions of a hash table \n",
    "    Inputs:\n",
    "        - Hash table \n",
    "    Outputs:\n",
    "        - Number of buckets that have collisions \n",
    "    \"\"\"\n",
    "    counter = 0\n",
    "    for i in hash_table:\n",
    "        if len(i) <= 1:\n",
    "            continue \n",
    "        else:\n",
    "            counter += 1 \n",
    "    return counter \n",
    "\n",
    "print(collisions(hash1))\n",
    "print(collisions(hash2))\n",
    "print(collisions(hash3))\n",
    "print(collisions(hash4))"
   ]
  },
  {
   "cell_type": "markdown",
   "metadata": {
    "deletable": false,
    "editable": false,
    "nbgrader": {
     "checksum": "ef47cabb10897284ca375490003e6b3d",
     "grade": false,
     "grade_id": "cell-435ba1cfb2d80447",
     "locked": true,
     "schema_version": 1,
     "solution": false
    }
   },
   "source": [
    "### Question 6 [time estimate: 5 minutes]\n",
    "\n",
    "For each of the hash functions, how many elements are in a bucket on average (if it is not empty)?\n"
   ]
  },
  {
   "cell_type": "code",
   "execution_count": 127,
   "metadata": {
    "deletable": false,
    "nbgrader": {
     "checksum": "9f77d346c6e5ffbfb92ac0707c3c1d72",
     "grade": true,
     "grade_id": "cell-b4052afa2ee7c702",
     "locked": false,
     "points": 0,
     "schema_version": 1,
     "solution": true
    }
   },
   "outputs": [
    {
     "name": "stdout",
     "output_type": "stream",
     "text": [
      "38.0763358778626\n",
      "312.4375\n",
      "2.361812778603269\n",
      "192.26923076923077\n"
     ]
    }
   ],
   "source": [
    "import statistics as stats\n",
    "\n",
    "def collision_average(hash_table):\n",
    "    \"\"\"\n",
    "    Finds average collisions per bucket \n",
    "    Inputs:\n",
    "        - Hash table\n",
    "    Outputs:\n",
    "        - Average number of collisions for each bucket \n",
    "    \"\"\"\n",
    "    collisions = [] \n",
    "    location = [] # used to check the duplicates \n",
    "    for idx,i in enumerate(hash_table):\n",
    "        if len(i) <= 1:\n",
    "            continue\n",
    "        else:\n",
    "            location.append(idx)\n",
    "            collisions.append(len(i))\n",
    "#     print(location)\n",
    "    return stats.mean(collisions)\n",
    "\n",
    "print(collision_average(hash1))\n",
    "print(collision_average(hash2))\n",
    "print(collision_average(hash3))\n",
    "print(collision_average(hash4))\n"
   ]
  },
  {
   "cell_type": "markdown",
   "metadata": {
    "deletable": false,
    "editable": false,
    "nbgrader": {
     "checksum": "aaeb9bd55b7a86f8bc8079cbb7f8bca4",
     "grade": false,
     "grade_id": "cell-b86aef4dd22c236c",
     "locked": true,
     "schema_version": 1,
     "solution": false
    }
   },
   "source": [
    "### Question 7 [time estimate: 5 minutes]\n",
    "\n",
    "Time how long it takes to find elements that are in each hash table.\n"
   ]
  },
  {
   "cell_type": "code",
   "execution_count": 138,
   "metadata": {
    "deletable": false,
    "nbgrader": {
     "checksum": "23927c46b8067f49ef10e9b4183f7680",
     "grade": true,
     "grade_id": "cell-0605f7dec7128414",
     "locked": false,
     "points": 0,
     "schema_version": 1,
     "solution": true
    }
   },
   "outputs": [
    {
     "name": "stdout",
     "output_type": "stream",
     "text": [
      "5.7220458984375e-06\n",
      "1.2159347534179688e-05\n",
      "5.9604644775390625e-06\n",
      "1.7881393432617188e-05\n"
     ]
    }
   ],
   "source": [
    "import time \n",
    "\n",
    "# contains(hash_table, item, hash_function)\n",
    "\n",
    "def search_time(hash_table, item, hash_function):\n",
    "    \"\"\"\n",
    "    Finds the time it takes to use the search function of the hash table \n",
    "    Inputs:\n",
    "        - Hash table\n",
    "        - Item\n",
    "        - Hash function\n",
    "    Outputs:\n",
    "        - Running time of search \n",
    "    \"\"\"\n",
    "    start = time.time()\n",
    "    contains(hash_table, item, hash_function)\n",
    "    end = time.time()\n",
    "    result = end - start \n",
    "    \n",
    "    return result\n",
    "\n",
    "# Hash 1 \"bilxabccbb\"\n",
    "print(search_time(hash1, \"bilxabccbb\", hash_str1))\n",
    "\n",
    "# Hash 2 \"csjgvgnlhv\"\n",
    "print(search_time(hash2, \"csjgvgnlhv\", hash_str2))\n",
    "\n",
    "# Hash 3 \"olvsvmoqmh\"\n",
    "print(search_time(hash3, \"odeflvsvmoqmh\", hash_str3))\n",
    "\n",
    "# Hash 4 \"mhyefiilju\"\n",
    "print(search_time(hash4, \"mhyefiilju\", hash_str4))\n",
    "\n"
   ]
  },
  {
   "cell_type": "markdown",
   "metadata": {
    "deletable": false,
    "editable": false,
    "nbgrader": {
     "checksum": "b051093ca9a2faf1658679380bf29033",
     "grade": false,
     "grade_id": "cell-75db2c2e62cec090",
     "locked": true,
     "schema_version": 1,
     "solution": false
    }
   },
   "source": [
    "### Question 8 [time estimate: 5 minutes]\n",
    "\n",
    "For each hash table, time how long it takes to find 10,000 elements that have not been stored."
   ]
  },
  {
   "cell_type": "code",
   "execution_count": 153,
   "metadata": {
    "deletable": false,
    "nbgrader": {
     "checksum": "99b2fa8c88000c2143cb00fac1f6aa5f",
     "grade": true,
     "grade_id": "cell-b846b45e1b98ae59",
     "locked": false,
     "points": 0,
     "schema_version": 1,
     "solution": true
    }
   },
   "outputs": [
    {
     "name": "stdout",
     "output_type": "stream",
     "text": [
      "0.22115206718444824\n",
      "0.7020461559295654\n",
      "0.14385414123535156\n",
      "0.9804542064666748\n"
     ]
    }
   ],
   "source": [
    "def search_null(hash_table, hash_function):\n",
    "    \"\"\"\n",
    "    Finds the time it takes to find 10,000 elements not in hash table \n",
    "    Inputs:\n",
    "        - Hash table\n",
    "        - Hash Function\n",
    "    Outputs: \n",
    "        - Running time \n",
    "    \"\"\"\n",
    "    start = time.time()\n",
    "    nulls = 0 \n",
    "    while nulls < 10000:\n",
    "        for i in word_bank:\n",
    "            if contains(hash_table, i, hash_function) == False:\n",
    "                nulls += 1 \n",
    "            else:\n",
    "                continue\n",
    "    end = time.time()\n",
    "    \n",
    "    return (end - start)\n",
    "\n",
    "print(search_null(hash1, hash_str1))\n",
    "print(search_null(hash2, hash_str2))\n",
    "print(search_null(hash3, hash_str3))\n",
    "print(search_null(hash4, hash_str4))\n"
   ]
  },
  {
   "cell_type": "code",
   "execution_count": null,
   "metadata": {},
   "outputs": [],
   "source": []
  }
 ],
 "metadata": {
  "kernelspec": {
   "display_name": "Python 3",
   "language": "python",
   "name": "python3"
  },
  "language_info": {
   "codemirror_mode": {
    "name": "ipython",
    "version": 3
   },
   "file_extension": ".py",
   "mimetype": "text/x-python",
   "name": "python",
   "nbconvert_exporter": "python",
   "pygments_lexer": "ipython3",
   "version": "3.6.8"
  }
 },
 "nbformat": 4,
 "nbformat_minor": 2
}
