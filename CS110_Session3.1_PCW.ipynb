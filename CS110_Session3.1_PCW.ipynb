{
 "cells": [
  {
   "cell_type": "markdown",
   "metadata": {},
   "source": [
    "Before you turn this problem in, make sure everything runs as expected. First, **restart the kernel** (in the menubar, select Kernel$\\rightarrow$Restart) and then **run all cells** (in the menubar, select Cell$\\rightarrow$Run All).\n",
    "\n",
    "Note that this Pre-class Work is estimated to take **1 hour and 30 minutes**.\n",
    "\n",
    "Make sure you fill in any place that says `YOUR CODE HERE` or \"YOUR ANSWER HERE\", as well as your name and collaborators below:"
   ]
  },
  {
   "cell_type": "code",
   "execution_count": null,
   "metadata": {},
   "outputs": [],
   "source": [
    "NAME = \"Lance\"\n",
    "COLLABORATORS = \"None\""
   ]
  },
  {
   "cell_type": "markdown",
   "metadata": {},
   "source": [
    "---"
   ]
  },
  {
   "cell_type": "markdown",
   "metadata": {
    "deletable": false,
    "editable": false,
    "nbgrader": {
     "checksum": "ff3288a2b0acfc2e2f917a549d038e5c",
     "grade": false,
     "grade_id": "cell-9e44910e5a73668d",
     "locked": true,
     "schema_version": 1,
     "solution": false
    }
   },
   "source": [
    "# CS110 Pre-class Work - Mergesort and recurrences\n",
    "\n",
    "## Question 1 [time estimate: 20 minutes]\n",
    "\n",
    "First, please read carefully [this note](https://drive.google.com/open?id=1SfrRTKWDb6szsJENgvNF7-u2B96ecaF2), which reviews the MERGE operation in Cormen et al.\n",
    "\n",
    "After reviewing the example above (Cormen et al., Figure 2.3),  you need to manually create similar illustrations as in the example above but this time for the input array:\n",
    "\n",
    "![array](array.png)\n",
    "\n",
    "For this exercise, assume that the call to the algorithm is MERGE(A, 1, 3, 6) and draw different resulting stages of the arrays A, L, and R as the merge algorithm is executed.  You can hand-draw or use any drawing tool to produce panel illustrations, as in the example above.  Include your final drawings in the cell below. Feel free to use additional cells (Markdown or Code) for this question.\n"
   ]
  },
  {
   "cell_type": "markdown",
   "metadata": {
    "deletable": false,
    "nbgrader": {
     "checksum": "b4d0caf51fb6b587f68db4e806af35d0",
     "grade": true,
     "grade_id": "cell-badbff7790708987",
     "locked": false,
     "points": 0,
     "schema_version": 1,
     "solution": true
    }
   },
   "source": [
    "YOUR ANSWER HERE\n",
    "![image](Merge_sort.png)\n"
   ]
  },
  {
   "cell_type": "markdown",
   "metadata": {
    "deletable": false,
    "editable": false,
    "nbgrader": {
     "checksum": "7c9608898d23ecbe07c084ca6d6da655",
     "grade": false,
     "grade_id": "cell-6dd1317d1ea8ab9f",
     "locked": true,
     "schema_version": 1,
     "solution": false
    }
   },
   "source": [
    "## Question 2 [time estimate: 5 minutes]\n",
    "Now using your understanding of Part I of the merge algorithm, can you think of an efficient way to implement this part in Python? (hint: using Python lists). Give your answer in prose in the cell below."
   ]
  },
  {
   "cell_type": "markdown",
   "metadata": {
    "deletable": false,
    "nbgrader": {
     "checksum": "9bf35550640c33f366c5cffad7fdf33a",
     "grade": true,
     "grade_id": "cell-4f961721620a6645",
     "locked": false,
     "points": 0,
     "schema_version": 1,
     "solution": true
    }
   },
   "source": [
    "In Python, I would create separate lists of the original array and sort them in those lists. Assuming that I am only going to divide once, I would create two empty lists (L and R) and would start appending to those lists based on the range of n_1 and n_2. These empty lists will have 0 values in order to apply replacement when we are dividing the original array. Then, I would sort the numbrs in those lists and start combining them in the original array. \n",
    "\n",
    "However, given the metrics of Merge(A, 1,3,6) it will not sort the algorithm unless we further divide the list up until we are only left with one number in one list. "
   ]
  },
  {
   "cell_type": "markdown",
   "metadata": {
    "deletable": false,
    "editable": false,
    "nbgrader": {
     "checksum": "010584ea3a4f00fba43b52bb04cd0ed2",
     "grade": false,
     "grade_id": "cell-84932c7c0c20b750",
     "locked": true,
     "schema_version": 1,
     "solution": false
    }
   },
   "source": [
    "## Question 3 [time estimate: 20 minutes]\n",
    "\n",
    "Write a Python implementation of the merge pseudocode (both parts). Your Python function must take the same four input arguments as described in the $MERGE(A,p,q,r)$. Test your code by running the example in problem 1 and 2 of this pre-class work. Feel free to come up with additional cases to check if your code is working properly. Your code should return A."
   ]
  },
  {
   "cell_type": "code",
   "execution_count": 79,
   "metadata": {
    "deletable": false,
    "nbgrader": {
     "checksum": "43760e27d0b385c30476353b3d546a79",
     "grade": false,
     "grade_id": "cell-a67719d65c1ac9f3",
     "locked": false,
     "schema_version": 1,
     "solution": true
    }
   },
   "outputs": [
    {
     "name": "stdout",
     "output_type": "stream",
     "text": [
      "Original List: [2, 6, 7, 8, 1, 4, 6, 9]\n",
      "q = 3 and the list is not sorted\n",
      "[2, 6, 7, 8, 1, 4, 6, 9]\n",
      "If q = 4, the list is sorted within the given range\n",
      "[1, 2, 4, 6, 7, 8, 6, 9]\n",
      "Full sorting of the list.\n",
      "[1, 2, 4, 6, 6, 7, 8, 9]\n"
     ]
    }
   ],
   "source": [
    "def merge(A, p, q, r):\n",
    "    # YOUR CODE HERE\n",
    "    n1 = q - p + 1 \n",
    "    n2 = r - q \n",
    "    \n",
    "    #PART I \n",
    "    # create L and R lists and append 0's\n",
    "    L = []\n",
    "    R = []\n",
    "    for i in range(n1+1):\n",
    "        L.append(0)\n",
    "    for j in range(n2+1): \n",
    "        R.append(0)\n",
    "    \n",
    "    # Divide the list to their respective indices \n",
    "    for i in range(0,n1): \n",
    "        L[i] = A[p + i-1]\n",
    "\n",
    "    for j in range(0,n2): \n",
    "        R[j] = A[q + j]\n",
    "        \n",
    "    # add sentinel number at the end of both lists \n",
    "    L[n1] = 999999\n",
    "    R[n2] = 999999\n",
    "    \n",
    "    #PART II\n",
    "    # initialize indices\n",
    "    i = 0\n",
    "    j = 0\n",
    "    for k in range(p-1,r): # Sort by adding values back to the original array \n",
    "        if L[i] <= R[j]:\n",
    "            A[k] = L[i] \n",
    "            i += 1 \n",
    "        else:\n",
    "            A[k] = R[j] \n",
    "            j += 1 \n",
    "\n",
    "    return A \n",
    "\n",
    "A = [2,6,7,8,1,4,6,9]\n",
    "\n",
    "print(\"Original List:\",A)\n",
    "\n",
    "print(\"q = 3 and the list is not sorted\")\n",
    "print(merge(A, 1,3,6))\n",
    "\n",
    "print(\"If q = 4, the list is sorted within the given range\")\n",
    "print(merge(A, 1,4,6))\n",
    "\n",
    "print(\"Full sorting of the list.\")\n",
    "print(merge(A, 1,6, len(A) - 1))"
   ]
  },
  {
   "cell_type": "markdown",
   "metadata": {},
   "source": [
    "### Explanation why list is not sorted ###\n",
    "\n",
    "I followed the pseudocode for this and it still returns the same list because of the value of \"q\". q determines the last number to be inserted in L. Then, the beginning number of R is the highest value amongst both lists and therefore will be inserted first which make the list not sorted at the end. If no further division is applied, q is a very critical value. The value in which we make the cut."
   ]
  },
  {
   "cell_type": "code",
   "execution_count": null,
   "metadata": {
    "deletable": false,
    "editable": false,
    "nbgrader": {
     "checksum": "699908274975a6bff4f9fb021e666ce4",
     "grade": true,
     "grade_id": "cell-e98759fe14428af0",
     "locked": true,
     "points": 0,
     "schema_version": 1,
     "solution": false
    }
   },
   "outputs": [],
   "source": [
    "# Please ignore this cell. This cell is for us to implement the tests \n",
    "# to see if your code works properly. "
   ]
  },
  {
   "cell_type": "markdown",
   "metadata": {
    "deletable": false,
    "nbgrader": {
     "checksum": "b2d80ef5c8845de0122c6420b853605d",
     "grade": false,
     "grade_id": "cell-49f3f61ee6d72bb9",
     "locked": true,
     "schema_version": 1,
     "solution": false
    }
   },
   "source": [
    "## Question 4 [time estimate: 5 minutes]\n",
    "\n",
    "Suppose that your Python implementation of the merge algorithm is already working. Read and comment the code for merge sort below:"
   ]
  },
  {
   "cell_type": "code",
   "execution_count": 85,
   "metadata": {
    "deletable": false,
    "nbgrader": {
     "checksum": "53611abb1448334a346783091382fb12",
     "grade": false,
     "grade_id": "cell-073a21c6aac8225e",
     "locked": true,
     "schema_version": 1,
     "solution": false
    },
    "scrolled": true
   },
   "outputs": [
    {
     "data": {
      "text/plain": [
       "([1, 2, 4, 6, 6, 7, 8, 9], 1)"
      ]
     },
     "execution_count": 85,
     "metadata": {},
     "output_type": "execute_result"
    }
   ],
   "source": [
    "def merge_sort(A,p,r):\n",
    "    step = 0\n",
    "    if p < r:\n",
    "        q = (p+r)//2\n",
    "        merge_sort(A,p,q)\n",
    "        merge_sort(A,q+1,r)\n",
    "        merge(A,p,q,r)\n",
    "        step += 1 \n",
    "    return A, step\n",
    "\n",
    "merge_sort(A, 1, len(A) - 1)"
   ]
  },
  {
   "cell_type": "code",
   "execution_count": null,
   "metadata": {
    "deletable": false,
    "editable": false,
    "nbgrader": {
     "checksum": "35fbb3c437b3ba39ede0d87d6719223b",
     "grade": true,
     "grade_id": "cell-a3a71f67390c1f82",
     "locked": true,
     "points": 0,
     "schema_version": 1,
     "solution": false
    }
   },
   "outputs": [],
   "source": [
    "# Please ignore this cell. This cell is for us to implement the tests \n",
    "# to see if your code works properly. "
   ]
  },
  {
   "cell_type": "markdown",
   "metadata": {
    "deletable": false,
    "nbgrader": {
     "checksum": "61cfba995efe3c9c37092a650047fdf3",
     "grade": false,
     "grade_id": "cell-5b296f793fefdbfe",
     "locked": true,
     "schema_version": 1,
     "solution": false
    }
   },
   "source": [
    "## Question 5 [time estimate: 15 minutes]\n",
    "Count the number of steps and time your merge_sort() function with the following input: `list_k = [i for i in range(100*k, 0, -1)] `, where $k= 1, 2, 3, …, 15 $. If you are not familiar with what this piece of code is doing, you may want to check the \"List Comprehension\" section in this [Python Help Sheet](https://drive.google.com/open?id=1paW2ByiraoDQViie0gGxApRN9DKbjHGx).\n"
   ]
  },
  {
   "cell_type": "code",
   "execution_count": 84,
   "metadata": {
    "deletable": false,
    "nbgrader": {
     "checksum": "cc3f59157e795d05422e849f3e7cc03a",
     "grade": true,
     "grade_id": "cell-8a4233ab58d3d0bb",
     "locked": false,
     "points": 0,
     "schema_version": 1,
     "solution": true
    }
   },
   "outputs": [
    {
     "data": {
      "text/plain": [
       "1"
      ]
     },
     "execution_count": 84,
     "metadata": {},
     "output_type": "execute_result"
    }
   ],
   "source": [
    "# YOUR CODE HERE\n",
    "\n",
    "def merge(A, p, q, r):\n",
    "    # YOUR CODE HERE \n",
    "    n1 = q - p + 1 \n",
    "    n2 = r - q \n",
    "    \n",
    "    #PART I \n",
    "    # create L and R lists and append 0's\n",
    "    L = []\n",
    "    R = []\n",
    "    for i in range(n1+1):\n",
    "        L.append(0)\n",
    "    for j in range(n2+1): \n",
    "        R.append(0)\n",
    "    \n",
    "    # Divide the list to their respective indices \n",
    "    for i in range(0,n1): \n",
    "        L[i] = A[p + i-1]\n",
    "\n",
    "    for j in range(0,n2): \n",
    "        R[j] = A[q + j]\n",
    "        \n",
    "    # add sentinel number at the end of both lists \n",
    "    L[n1] = 999999\n",
    "    R[n2] = 999999\n",
    "    #PART II\n",
    "    # initialize indices\n",
    "    i = 0\n",
    "    j = 0\n",
    "    for k in range(p-1,r): # Sort by adding values back to the original array \n",
    "        if L[i] <= R[j]:\n",
    "            A[k] = L[i] \n",
    "            i += 1 \n",
    "        else:\n",
    "            A[k] = R[j] \n",
    "            j += 1 \n",
    "    return A  \n",
    "\n",
    "def merge_sort(A,p,r):\n",
    "    step = 0\n",
    "    if p < r:\n",
    "        q = (p+r)//2\n",
    "        merge_sort(A,p,q)\n",
    "        merge_sort(A,q+1,r)\n",
    "        merge(A,p,q,r)\n",
    "        step += 1 \n",
    "        \n",
    "    return A, step\n",
    "\n",
    "A = [2,6,7,8,1,4,6,9]\n",
    "list_k = [i for i in range(100*k, 0, -1)]\n",
    "\n",
    "merge_sort(list_k, 1, len(list_k) - 1)[1]\n",
    "\n"
   ]
  },
  {
   "cell_type": "markdown",
   "metadata": {
    "deletable": false,
    "editable": false
   },
   "source": [
    "## Question 6 [time estimate: 25 minutes] \n",
    "Use the code you wrote for Lesson \"Measuring algorithms' efficiency\" (i.e., selection sort, bubble sort, insertion sort). Plot the following graphs:\n",
    "* **Graph 1**: 4 lines for **the number of steps** of each of the 4 sorting algorithms (i.e., selection sort, bubble sort, insertion sort, merge sort). Which algorithm performs best? Why? \n",
    "* **Graph 2**: 4 lines for **the timing** of each of the 4 sorting algorithms (i.e., selection sort, bubble sort, insertion sort, merge sort). Which algorithm performs best? Why?\n",
    "\n",
    "Use as many cells as you wish (code cells or markdown cells alike) to complete this question.\n",
    "\n",
    "You may find the section \"Simple 2-Dimensional Plots in Python\" in this [Python Help Sheet](https://drive.google.com/open?id=1paW2ByiraoDQViie0gGxApRN9DKbjHGx) helpful."
   ]
  },
  {
   "cell_type": "code",
   "execution_count": 87,
   "metadata": {
    "deletable": false,
    "nbgrader": {
     "checksum": "0561f29260f91795736500d62066a4c7",
     "grade": true,
     "grade_id": "cell-d09efb7c7fe55e69",
     "locked": false,
     "points": 0,
     "schema_version": 1,
     "solution": true
    }
   },
   "outputs": [
    {
     "name": "stdout",
     "output_type": "stream",
     "text": [
      "Apologies, I wasn't able to complete this part of the PCW\n"
     ]
    }
   ],
   "source": [
    "# YOUR CODE HERE\n",
    "print(\"Apologies, I wasn't able to complete this part of the PCW\")\n"
   ]
  },
  {
   "cell_type": "code",
   "execution_count": null,
   "metadata": {},
   "outputs": [],
   "source": []
  }
 ],
 "metadata": {
  "kernelspec": {
   "display_name": "Python 3",
   "language": "python",
   "name": "python3"
  },
  "language_info": {
   "codemirror_mode": {
    "name": "ipython",
    "version": 3
   },
   "file_extension": ".py",
   "mimetype": "text/x-python",
   "name": "python",
   "nbconvert_exporter": "python",
   "pygments_lexer": "ipython3",
   "version": "3.6.8"
  }
 },
 "nbformat": 4,
 "nbformat_minor": 2
}
