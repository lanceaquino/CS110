{
 "cells": [
  {
   "cell_type": "markdown",
   "metadata": {},
   "source": [
    "Before you turn this problem in, make sure everything runs as expected. First, **restart the kernel** (in the menubar, select Kernel$\\rightarrow$Restart) and then **run all cells** (in the menubar, select Cell$\\rightarrow$Run All).\n",
    "\n",
    "Note that this Pre-class Work is estimated to take **31 minutes**.\n",
    "\n",
    "Make sure you fill in any place that says `YOUR CODE HERE` or \"YOUR ANSWER HERE\", as well as your name and collaborators below:"
   ]
  },
  {
   "cell_type": "code",
   "execution_count": null,
   "metadata": {},
   "outputs": [],
   "source": [
    "NAME = \"Lance\"\n",
    "COLLABORATORS = \"\""
   ]
  },
  {
   "cell_type": "markdown",
   "metadata": {},
   "source": [
    "---"
   ]
  },
  {
   "cell_type": "markdown",
   "metadata": {
    "deletable": false,
    "editable": false,
    "nbgrader": {
     "checksum": "df135f0c4ea26cc7c0b25cb64a20e634",
     "grade": false,
     "grade_id": "cell-b46066345313bea6",
     "locked": true,
     "schema_version": 1,
     "solution": false
    }
   },
   "source": [
    "# CS110 Pre-class Work - Measuring algorithms' efficiency\n",
    "\n",
    "## Question 1 [time estimate: 15 minutes]\n",
    "\n",
    "Copy and paste the code for Insertion, Selection, and Bubble sort algorithms you wrote in Lesson \"Analyzing elementary sorting algorithm\" on the cells below. For each sorting algorithm, modify the code to introduce step counters. Your functions should return only the number of steps they took to sort the list. This will help you in a in-class activity for this lesson and for the PCW of the next lesson. Make sure to test your code by provinding different input lists of different sizes."
   ]
  },
  {
   "cell_type": "code",
   "execution_count": 57,
   "metadata": {
    "deletable": false,
    "nbgrader": {
     "checksum": "525698a22b0cee9c4cb74be2011232de",
     "grade": true,
     "grade_id": "cell-1eadb1312ac0519d",
     "locked": false,
     "points": 0,
     "schema_version": 1,
     "solution": true
    }
   },
   "outputs": [
    {
     "name": "stdout",
     "output_type": "stream",
     "text": [
      "([1, 2, 3, 4, 5], 28)\n",
      "([21, 23, 24, 43, 62], 31)\n",
      "reversed ([1, 2, 3, 4, 5], 46)\n",
      "best ([1, 2, 3, 4, 5], 16)\n",
      "([1, 2, 3, 4, 5, 6, 7, 8, 9, 10], 96)\n",
      "([4, 7, 8, 41, 44, 46, 58, 69, 79, 95], 117)\n",
      "([1, 2, 3, 4, 5, 6, 7, 8, 9, 10], 171)\n",
      "reversed ([1, 2, 3, 4, 5, 6, 7, 8, 9, 10], 36)\n",
      "best ([1, 2, 3, 4, 5, 6, 7, 8, 9, 10], 36)\n"
     ]
    }
   ],
   "source": [
    "import random \n",
    "\n",
    "alist = random.sample(range(1,6), 5)\n",
    "alist_2 = random.sample(range(100), 5)\n",
    "rlist = [5,4,3,2,1]\n",
    "best_alist = [1,2,3,4,5]\n",
    "blist = random.sample(range(1,11), 10)\n",
    "blist_2 = random.sample(range(100), 10)\n",
    "r2list = [10,9,8,7,6,5,4,3,2,1]\n",
    "best_blist = [1,2,3,4,5,6,7,8,9,10]\n",
    "\n",
    "def insertion_sort(A):\n",
    "    #INSERT CODE HERE \n",
    "    step = 0\n",
    "    for j in range(1, len(A)):\n",
    "        step += 1 \n",
    "        key = A[j] #artificial memory for exchange \n",
    "        step += 1\n",
    "        i= j-1\n",
    "        step += 1\n",
    "        while i >= 0 and A[i]>key: #we exchange if we found an unordered pair\n",
    "            step += 1 \n",
    "            A[i+1] = A[i]\n",
    "            step += 1\n",
    "            i -= 1\n",
    "            step += 1\n",
    "        A[i+1] = key #switch key to continue search \n",
    "        step += 1 \n",
    "        \n",
    "    return A, step \n",
    "\n",
    "print(insertion_sort(alist))\n",
    "print(insertion_sort(alist_2))\n",
    "print(\"reversed\",insertion_sort(rlist))\n",
    "print(\"best\", insertion_sort(best_alist))\n",
    "\n",
    "\n",
    "print(insertion_sort(blist))\n",
    "print(insertion_sort(blist_2))\n",
    "print(insertion_sort(r2list))\n",
    "print(\"reversed\",insertion_sort(r2list))\n",
    "print(\"best\", insertion_sort(best_blist))\n",
    "\n",
    "\n"
   ]
  },
  {
   "cell_type": "code",
   "execution_count": 58,
   "metadata": {
    "deletable": false,
    "nbgrader": {
     "checksum": "525698a22b0cee9c4cb74be2011232de",
     "grade": true,
     "grade_id": "cell-1eadb1312ac0519d",
     "locked": false,
     "points": 0,
     "schema_version": 1,
     "solution": true
    }
   },
   "outputs": [
    {
     "name": "stdout",
     "output_type": "stream",
     "text": [
      "([1, 2, 3, 4, 5], 39)\n",
      "([0, 48, 82, 84, 86], 43)\n",
      "reversed ([1, 2, 3, 4, 5], 55)\n",
      "best ([1, 2, 3, 4, 5], 15)\n",
      "([1, 2, 3, 4, 5, 6, 7, 8, 9, 10], 127)\n",
      "([3, 5, 29, 30, 31, 32, 35, 54, 91, 97], 115)\n",
      "reversed ([1, 2, 3, 4, 5, 6, 7, 8, 9, 10], 235)\n",
      "best ([1, 2, 3, 4, 5, 6, 7, 8, 9, 10], 55)\n"
     ]
    }
   ],
   "source": [
    "alist = random.sample(range(1,6), 5)\n",
    "alist_2 = random.sample(range(100), 5)\n",
    "rlist = [5,4,3,2,1]\n",
    "best_alist = [1,2,3,4,5]\n",
    "blist = random.sample(range(1,11), 10)\n",
    "blist_2 = random.sample(range(100), 10)\n",
    "r2list = [10,9,8,7,6,5,4,3,2,1]\n",
    "best_blist = [1,2,3,4,5,6,7,8,9,10]\n",
    "\n",
    "def bubble_sort(A):\n",
    "    # YOUR CODE HERE\n",
    "    step = 0\n",
    "    for i in range(0, len(A)): #range of the remaining numbers to be sorted \n",
    "        step += 1\n",
    "        for j in range(len(A)-1, i, -1): #loop for exchanging numbers based on the unsorted list \n",
    "            step += 1\n",
    "            if A[j] < A[j-1]:\n",
    "                step += 1\n",
    "                key = A[j] #artficial memory for exchange\n",
    "                step += 1\n",
    "                A[j] = A[j-1]\n",
    "                step += 1\n",
    "                A[j-1] = key\n",
    "                step += 1\n",
    "            \n",
    "    \n",
    "    return A, step \n",
    "\n",
    "print(bubble_sort(alist))\n",
    "print(bubble_sort(alist_2))\n",
    "print(\"reversed\",bubble_sort(rlist))\n",
    "print(\"best\", bubble_sort(best_alist))\n",
    "\n",
    "\n",
    "print(bubble_sort(blist))\n",
    "print(bubble_sort(blist_2))\n",
    "print(\"reversed\",bubble_sort(r2list))\n",
    "print(\"best\", bubble_sort(best_blist))\n"
   ]
  },
  {
   "cell_type": "code",
   "execution_count": 82,
   "metadata": {
    "deletable": false,
    "nbgrader": {
     "checksum": "525698a22b0cee9c4cb74be2011232de",
     "grade": true,
     "grade_id": "cell-1eadb1312ac0519d",
     "locked": false,
     "points": 0,
     "schema_version": 1,
     "solution": true
    },
    "scrolled": true
   },
   "outputs": [
    {
     "name": "stdout",
     "output_type": "stream",
     "text": [
      "[2, 5, 1, 3, 4]\n",
      "([1, 2, 3, 4, 5], 39)\n",
      "([37, 44, 56, 72, 87], 43)\n",
      "reversed ([1, 2, 3, 4, 5], 43)\n",
      "best ([1, 2, 3, 4, 5], 31)\n",
      "([1, 2, 3, 4, 5, 6, 7, 8, 9, 10], 117)\n",
      "([7, 35, 36, 42, 45, 62, 81, 93, 94, 96], 111)\n",
      "reversed ([1, 2, 3, 4, 5, 6, 7, 8, 9, 10], 141)\n",
      "best ([1, 2, 3, 4, 5, 6, 7, 8, 9, 10], 91)\n"
     ]
    }
   ],
   "source": [
    "alist = random.sample(range(1,6), 5)\n",
    "alist_2 = random.sample(range(100), 5)\n",
    "rlist = [5,4,3,2,1]\n",
    "best_alist = [1,2,3,4,5]\n",
    "blist = random.sample(range(1,11), 10)\n",
    "blist_2 = random.sample(range(100), 10)\n",
    "r2list = [10,9,8,7,6,5,4,3,2,1]\n",
    "best_blist = [1,2,3,4,5,6,7,8,9,10]\n",
    "\n",
    "def selection_sort(A):\n",
    "    # YOUR CODE HERE\n",
    "    step = 0 \n",
    "    n = len(A)\n",
    "    step += 1 \n",
    "    for i in range(0, n-1):\n",
    "        step += 1\n",
    "        minidx = i #assume that the first number is the lowest\n",
    "        step += 1\n",
    "        for j in range(i+1, n):\n",
    "            step += 1\n",
    "            if A[j] < A[minidx]:\n",
    "                step += 1\n",
    "                minidx = j #if we find a lower number then we switch our minidx\n",
    "                step += 1\n",
    "        #Swap \n",
    "        RAM = A[i]\n",
    "        step += 1\n",
    "        A[i] = A[minidx]\n",
    "        step += 1\n",
    "        A[minidx] = RAM\n",
    "        step += 1\n",
    "\n",
    "    return A, step \n",
    "\n",
    "print(alist)\n",
    "print(selection_sort(alist))\n",
    "print(selection_sort(alist_2))\n",
    "print(\"reversed\",selection_sort(rlist))\n",
    "print(\"best\", selection_sort(best_alist))\n",
    "\n",
    "print(selection_sort(blist))\n",
    "print(selection_sort(blist_2))\n",
    "print(\"reversed\",selection_sort(r2list))\n",
    "print(\"best\", selection_sort(best_blist))\n"
   ]
  },
  {
   "cell_type": "markdown",
   "metadata": {
    "deletable": false,
    "editable": false,
    "nbgrader": {
     "checksum": "9d7a3b260b0fef93382fb52aa393f963",
     "grade": false,
     "grade_id": "cell-0ac1c20b43acb363",
     "locked": true,
     "schema_version": 1,
     "solution": false
    }
   },
   "source": [
    "## Question 2 [time estimate: 10 minutes]\n",
    "\n",
    "Studying these sorting algorithms in detail, identify for which kinds of input they would perform better or worst in completing the task of sorting a list. Give examples to complement your answer."
   ]
  },
  {
   "cell_type": "markdown",
   "metadata": {
    "deletable": false,
    "nbgrader": {
     "checksum": "eb02c9951e19ee43d128fa93dd53eaad",
     "grade": true,
     "grade_id": "cell-5ecb51404140cb2f",
     "locked": false,
     "points": 0,
     "schema_version": 1,
     "solution": true
    }
   },
   "source": [
    "- **Insertion Sort**\n",
    "    - Best-case input: A sorted list of numbers would be the best-case input (e.g: [1,2,3,4,5]). The algorithm will not execute the for loop. \n",
    "    - Worst-case input: A reversed sorted numbers would be the worst-case input (e.g.: [5,4,3,2,1]). The algorithm will execute the maximum iterations since the unsorted stack is basically reversed. \n",
    "    \n",
    "- **Bubble Sort**\n",
    "    - Best-case input: A sorted list. They would not need to make any switches. \n",
    "    - Worst-case input: They also take the most steps at a reversed list. However, as we increase the input of n, its number of steps is less than selection sort. \n",
    "    \n",
    "- **Selection Sort**\n",
    "    - Best-case input: A sorted list. They would not need to make any switches. \n",
    "    - Worst-case input: A reversed list is also the most steps according ot the trials above. The algorithm will have to keep switching the minidx since it started with the highest number and will repeat to do so until it acquires the true minidx which is at the end of the list. "
   ]
  },
  {
   "cell_type": "markdown",
   "metadata": {
    "deletable": false,
    "editable": false,
    "nbgrader": {
     "checksum": "cb0b8b9c4b153530d47b437baa24098d",
     "grade": false,
     "grade_id": "cell-b22dce6b32afe1a9",
     "locked": true,
     "schema_version": 1,
     "solution": false
    }
   },
   "source": [
    "## Question 3 [time estimate: 3 minutes]\n",
    "\n",
    "Given your answers to the previous question, is there any algorithm that performs asymptotically the same for any kind of input? Explain your answer."
   ]
  },
  {
   "cell_type": "markdown",
   "metadata": {
    "deletable": false,
    "nbgrader": {
     "checksum": "4ff5af35daed9a5442ba229263bdde33",
     "grade": true,
     "grade_id": "cell-442998d5fdd8b561",
     "locked": false,
     "points": 0,
     "schema_version": 1,
     "solution": true
    }
   },
   "source": [
    "Yes. Seems like all the algorithms have the same idea for their upper and lower bounds wherein the best-case are the sorted orders since all algorithms will not have to perform any switches. It is also the same for the upper bounds where the algorithms have the same concept of worst-cases for reversed list since they will have to perform switches all the time. "
   ]
  },
  {
   "cell_type": "markdown",
   "metadata": {
    "deletable": false,
    "editable": false,
    "nbgrader": {
     "checksum": "cb0b8b9c4b153530d47b437baa24098d",
     "grade": false,
     "grade_id": "cell-b22dce6b32afe1a9",
     "locked": true,
     "schema_version": 1,
     "solution": false
    }
   },
   "source": [
    "## Question 4 [time estimate: 3 minutes]\n",
    "\n",
    "Besides the step counters you introduced and the algorithms' running times you studied in the previous session, can you think of other metrics you could use to measure an algorithm's efficiency? Explain your reasoning."
   ]
  },
  {
   "cell_type": "markdown",
   "metadata": {
    "nbgrader": {
     "checksum": "4ff5af35daed9a5442ba229263bdde33",
     "grade": true,
     "grade_id": "cell-442998d5fdd8b561",
     "locked": false,
     "points": 0,
     "schema_version": 1,
     "solution": true
    }
   },
   "source": [
    "**Multiple Ways:**\n",
    "1. Cache capacity: how many numbers are being stored by the algorithm. If we store too much information, that would require more power for the computer to execute and can also take up space of memory. \n",
    "2. Processing power: how much processing power did the computer use to execute the algorithm. All computers are not the same and their CPU's have different operational capacities. This should be considered as to what kind of algorithms should be used. \n",
    "3. Lines of code: the lesser lines of code, the more efficient the programming language will execute the algorithm. Basically, for Pyhton, it will require less lines to read and operate on which makes it demand for less power. "
   ]
  },
  {
   "cell_type": "markdown",
   "metadata": {},
   "source": [
    "### Appendix###"
   ]
  },
  {
   "cell_type": "code",
   "execution_count": 90,
   "metadata": {},
   "outputs": [
    {
     "name": "stdout",
     "output_type": "stream",
     "text": [
      "insertion\n",
      "90\n",
      "7332\n",
      "745293\n",
      "bubble\n",
      "55\n",
      "5050\n",
      "500500\n",
      "selection\n",
      "91\n",
      "5446\n",
      "504496\n"
     ]
    }
   ],
   "source": [
    "l = random.sample(range(10), 10)\n",
    "l2 = random.sample(range(100), 100) \n",
    "l3 = random.sample(range(1000), 1000)\n",
    "\n",
    "\n",
    "print(\"insertion\")\n",
    "print(insertion_sort(l)[1])\n",
    "print(insertion_sort(l2)[1])\n",
    "print(insertion_sort(l3)[1])\n",
    "\n",
    "\n",
    "print(\"bubble\")\n",
    "print(bubble_sort(l)[1])\n",
    "print(bubble_sort(l2)[1])\n",
    "print(bubble_sort(l3)[1])\n",
    "\n",
    "\n",
    "print(\"selection\")\n",
    "print(selection_sort(l)[1])\n",
    "print(selection_sort(l2)[1])\n",
    "print(selection_sort(l3)[1])\n"
   ]
  },
  {
   "cell_type": "code",
   "execution_count": null,
   "metadata": {},
   "outputs": [],
   "source": []
  }
 ],
 "metadata": {
  "kernelspec": {
   "display_name": "Python 3",
   "language": "python",
   "name": "python3"
  },
  "language_info": {
   "codemirror_mode": {
    "name": "ipython",
    "version": 3
   },
   "file_extension": ".py",
   "mimetype": "text/x-python",
   "name": "python",
   "nbconvert_exporter": "python",
   "pygments_lexer": "ipython3",
   "version": "3.6.8"
  }
 },
 "nbformat": 4,
 "nbformat_minor": 2
}
