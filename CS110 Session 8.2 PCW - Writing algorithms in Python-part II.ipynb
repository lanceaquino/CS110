{
 "cells": [
  {
   "cell_type": "markdown",
   "metadata": {},
   "source": [
    "Before you turn this problem in, make sure everything runs as expected. First, **restart the kernel** (in the menubar, select Kernel$\\rightarrow$Restart) and then **run all cells** (in the menubar, select Cell$\\rightarrow$Run All).\n",
    "\n",
    "Note that this Pre-class Work is estimated to take **38 minutes**.\n",
    "\n",
    "Make sure you fill in any place that says `YOUR CODE HERE` or \"YOUR ANSWER HERE\", as well as your name and collaborators below:"
   ]
  },
  {
   "cell_type": "code",
   "execution_count": null,
   "metadata": {},
   "outputs": [],
   "source": [
    "NAME = \"Lance\"\n",
    "COLLABORATORS = \"\""
   ]
  },
  {
   "cell_type": "markdown",
   "metadata": {},
   "source": [
    "---"
   ]
  },
  {
   "cell_type": "markdown",
   "metadata": {
    "deletable": false,
    "editable": false,
    "nbgrader": {
     "checksum": "df135f0c4ea26cc7c0b25cb64a20e634",
     "grade": false,
     "grade_id": "cell-b46066345313bea6",
     "locked": true,
     "schema_version": 1,
     "solution": false
    }
   },
   "source": [
    "# CS110 Pre-class Work - Writing algorithms in Python--part II\n",
    "\n",
    "## Question 1 [time estimate: 3 minutes]\n",
    "\n",
    "Why would you use a class with its methods and attributes rather than defining a function in the main block of your code? Feel free to use the examples given in the Study Guide, or feel free to provide your own."
   ]
  },
  {
   "cell_type": "markdown",
   "metadata": {
    "deletable": false,
    "nbgrader": {
     "checksum": "104f443d240e2139d778711f6bc0a766",
     "grade": true,
     "grade_id": "cell-3bac59ff24b11a27",
     "locked": false,
     "points": 0,
     "schema_version": 1,
     "solution": true
    }
   },
   "source": [
    "In object oriented programming (OOP), we would like to store properties of an object and only specifically to the object. Therefore, we create a class that has a set of functionalities such as methods that can be logically operated to that object. \n",
    "\n",
    "Ex. When we are selling cars\n",
    "\n",
    "When applying operations to our object \"cars\", it would be easier to just create a class under it and do the necessary methods instead of using a general function. Additionally, we initialize the object and create properties for them (e.g. number of wheels, selling price, model and etc.) Through this, we can have a clearer representation of how objects are enumerated in the data. "
   ]
  },
  {
   "cell_type": "markdown",
   "metadata": {
    "deletable": false,
    "editable": false,
    "nbgrader": {
     "checksum": "7872c2d656a6cb3aaeff2b4fa41eb204",
     "grade": false,
     "grade_id": "cell-0ca65d04b209f37f",
     "locked": true,
     "schema_version": 1,
     "solution": false
    }
   },
   "source": [
    "## Question 2 [time estimate: 3 minutes]\n",
    "\n",
    "What are the benefits of having instance attributes? Explain your answer."
   ]
  },
  {
   "cell_type": "markdown",
   "metadata": {
    "deletable": false,
    "nbgrader": {
     "checksum": "4ff5af35daed9a5442ba229263bdde33",
     "grade": true,
     "grade_id": "cell-442998d5fdd8b561",
     "locked": false,
     "points": 0,
     "schema_version": 1,
     "solution": true
    }
   },
   "source": [
    "Instance attributes allow the methods in the function to easily refer to and process operations. With instance attributes, we can easily initialize an object with its base properties or create base properties for the object and have consistency in our class. "
   ]
  },
  {
   "cell_type": "markdown",
   "metadata": {
    "deletable": false,
    "editable": false,
    "nbgrader": {
     "checksum": "9d7a3b260b0fef93382fb52aa393f963",
     "grade": false,
     "grade_id": "cell-0ac1c20b43acb363",
     "locked": true,
     "schema_version": 1,
     "solution": false
    }
   },
   "source": [
    "## Question 3 [time estimate: 3 minutes]\n",
    "\n",
    "Why would you want to introduce these attributes inside the `__init__` method rather than in another place like a method of its own? Explain your answer."
   ]
  },
  {
   "cell_type": "markdown",
   "metadata": {
    "deletable": false,
    "nbgrader": {
     "checksum": "eb02c9951e19ee43d128fa93dd53eaad",
     "grade": true,
     "grade_id": "cell-5ecb51404140cb2f",
     "locked": false,
     "points": 0,
     "schema_version": 1,
     "solution": true
    }
   },
   "source": [
    "This method helps us to easily initialize an object by setting its base properties and need not to enter them in our methods repeatedly. "
   ]
  },
  {
   "cell_type": "markdown",
   "metadata": {
    "deletable": false,
    "editable": false,
    "nbgrader": {
     "checksum": "cb0b8b9c4b153530d47b437baa24098d",
     "grade": false,
     "grade_id": "cell-b22dce6b32afe1a9",
     "locked": true,
     "schema_version": 1,
     "solution": false
    }
   },
   "source": [
    "## Question 4 [time estimate: 7 minutes]\n",
    "\n",
    "Write a Python class, called `Minervan`, where an instance of this class should represent a Minerva student.\n",
    "\n",
    "For example, Jake is a Minerva student that we want to represent using this class. He is 22 years old, originally from Australia, and is on the class of 2022. He is majoring in Computational Sciences. \n",
    "\n",
    "In the following code cell, write your `Minervan` class, which should contain relevant methods and attributes you can come up with. Justify your choice of methods and attributes in the markdown cell below."
   ]
  },
  {
   "cell_type": "code",
   "execution_count": 45,
   "metadata": {
    "deletable": false,
    "nbgrader": {
     "checksum": "eb02c9951e19ee43d128fa93dd53eaad",
     "grade": true,
     "grade_id": "cell-5ecb51404140cb2f",
     "locked": false,
     "points": 0,
     "schema_version": 1,
     "solution": true
    }
   },
   "outputs": [
    {
     "data": {
      "text/plain": [
       "'Seoul and Hyderabad'"
      ]
     },
     "execution_count": 45,
     "metadata": {},
     "output_type": "execute_result"
    }
   ],
   "source": [
    "class Minervan:\n",
    "    \"\"\"\n",
    "    Creates a class as Minervan for a specific student \n",
    "    with its following characteristics \n",
    "    \"\"\"\n",
    "    def __init__(self, name, age, origin, class_year):\n",
    "        self.name = name \n",
    "        self.age = age \n",
    "        self.origin = origin \n",
    "        self.class_year = class_year \n",
    "        \n",
    "    def age(self):\n",
    "        return self.age \n",
    "    \n",
    "    def origin(self):\n",
    "        return self.origin\n",
    "    \n",
    "    def class_year(self):\n",
    "        return self.class_year \n",
    "    \n",
    "    def start_year(self):\n",
    "        self.class_year -= 4\n",
    "        \n",
    "        return self.class_year\n",
    "    \n",
    "    def current_rotation(self, current_year):\n",
    "        if current_year > 2022 or current_year < self.start_year():\n",
    "            raise ValueError('Not within years of study')\n",
    "        elif current_year == 2018:\n",
    "            return \"San Francisco\"\n",
    "        elif current_year == 2019:\n",
    "            return \"Seoul and Hyderabad\"\n",
    "        elif current_year == 2020:\n",
    "            return \"Berlin or Bueons Aires\"\n",
    "        else:\n",
    "            return \"London or Taipei\"\n",
    "    \n",
    "jake = Minervan(\"jake\", 22, \"Australia\", 2022)\n",
    "\n",
    "jake.name\n",
    "# jake.age\n",
    "# jake.origin\n",
    "jake.class_year \n",
    "jake.current_rotation(2019)"
   ]
  },
  {
   "cell_type": "markdown",
   "metadata": {
    "deletable": false,
    "nbgrader": {
     "checksum": "eb02c9951e19ee43d128fa93dd53eaad",
     "grade": true,
     "grade_id": "cell-5ecb51404140cb2f",
     "locked": false,
     "points": 0,
     "schema_version": 1,
     "solution": true
    }
   },
   "source": [
    "The following methods are given to easily acquire information about Jake. I also added the functionality of acquiring the starting year and current rotation city to determine where the Minervan will be on its current school year.  "
   ]
  },
  {
   "cell_type": "markdown",
   "metadata": {
    "deletable": false,
    "editable": false,
    "nbgrader": {
     "checksum": "cb0b8b9c4b153530d47b437baa24098d",
     "grade": false,
     "grade_id": "cell-b22dce6b32afe1a9",
     "locked": true,
     "schema_version": 1,
     "solution": false
    }
   },
   "source": [
    "## Question 5 [time estimate: 7 minutes]\n",
    "\n",
    "Now add another student, named 'Anitha', as an instance of this class. Choose the relevant attributes for this new student. Which question took you longer to answer—Q4 or Q5? Why?"
   ]
  },
  {
   "cell_type": "markdown",
   "metadata": {
    "deletable": false,
    "nbgrader": {
     "checksum": "eb02c9951e19ee43d128fa93dd53eaad",
     "grade": true,
     "grade_id": "cell-5ecb51404140cb2f",
     "locked": false,
     "points": 0,
     "schema_version": 1,
     "solution": true
    }
   },
   "source": [
    "Anitha = Minervan(\"Anitha\", 17, \"Philippines\", 2022) \n",
    "\n",
    "This may take short as we have to initilize the function again and no need to reiterate calls"
   ]
  },
  {
   "cell_type": "markdown",
   "metadata": {
    "deletable": false,
    "editable": false,
    "nbgrader": {
     "checksum": "cb0b8b9c4b153530d47b437baa24098d",
     "grade": false,
     "grade_id": "cell-b22dce6b32afe1a9",
     "locked": true,
     "schema_version": 1,
     "solution": false
    }
   },
   "source": [
    "## Question 6 [time estimate: 15 minutes] \n",
    "\n",
    "During the session, we will work on the challenging task of computing the course grade for a student given the grades he/she received in each LOs. \n",
    "\n",
    "The algorithm to follow is as follows:\n",
    "\n",
    "Terminology:\n",
    "LO = Learning Objective\n",
    "CO = Course Objective\n",
    "CG = Course Grade\n",
    "\n",
    "Algorithm for computing CGs:\n",
    "1. We first consider the LO grades within each course objective (CO), and compute the weighted mean (using each of the relevant LO grades and corresponding weights). Each course objective will now have an average grade.\n",
    "2. We then compute the average of the COs, to get the CG.\n",
    "\n",
    "We're only going to compute the course grades for Jake, at least for now.\n",
    "\n",
    "\n",
    "### Question 6a\n",
    "\n",
    "In this course there is only 1 course objective called A. Given the grades Jake received for each LO presented on the table below, compute his current course grade manually, following the algorithm above.\n",
    "\n",
    "\n",
    "CO | LO | Weight | Grade | CO Grade\n",
    "--- | --- | --- | --- | ---\n",
    "A | alpha | 1 | 3 | 2.52 | \n",
    "A | alpha | 2 | 2 | 2.52 | \n",
    "A | beta  | 1 | 4 | 2.52 | \n",
    "A | beta  | 2 | 3 | 2.52 |\n",
    "A | beta  | 3 | 2 | 2.52 | \n",
    "A | beta  | 1 | 3 | 2.52| "
   ]
  },
  {
   "cell_type": "markdown",
   "metadata": {
    "deletable": false,
    "nbgrader": {
     "checksum": "eb02c9951e19ee43d128fa93dd53eaad",
     "grade": true,
     "grade_id": "cell-5ecb51404140cb2f",
     "locked": false,
     "points": 0,
     "schema_version": 1,
     "solution": true
    }
   },
   "source": [
    "CG = 2.52"
   ]
  },
  {
   "cell_type": "markdown",
   "metadata": {
    "deletable": false,
    "editable": false,
    "nbgrader": {
     "checksum": "cb0b8b9c4b153530d47b437baa24098d",
     "grade": false,
     "grade_id": "cell-b22dce6b32afe1a9",
     "locked": true,
     "schema_version": 1,
     "solution": false
    }
   },
   "source": [
    "### Question 6b\n",
    "\n",
    "The academic team has now introduced an extra course objective, B, and Jake has just received a grade for an LO belonging to this new CO. Compute, manually, what his current course grade is.\n",
    "\n",
    "CO | LO | Weight | Grade | CO Grade | Course Grade\n",
    "--- | --- | --- | --- | --- | ---\n",
    "A | alpha | 1 | 3 |\n",
    "A | alpha | 2 | 2 |\n",
    "A | beta  | 1 | 4 |\n",
    "A | beta  | 2 | 3 |\n",
    "A | beta  | 3 | 2 |\n",
    "A | beta  | 1 | 3 |\n",
    "B | gamma | 2 | 5 |\n",
    "\n",
    "What is the impact of this new LO grade? "
   ]
  },
  {
   "cell_type": "markdown",
   "metadata": {
    "deletable": false,
    "nbgrader": {
     "checksum": "eb02c9951e19ee43d128fa93dd53eaad",
     "grade": true,
     "grade_id": "cell-5ecb51404140cb2f",
     "locked": false,
     "points": 0,
     "schema_version": 1,
     "solution": true
    }
   },
   "source": [
    "CG = 3.76\n",
    "\n",
    "Calcualtions were done here: https://docs.google.com/spreadsheets/d/1NT_WQ2n0sxchSM0OVf-oXajwKaEaXUNlma-TLeL1JuM/edit?usp=sharing"
   ]
  },
  {
   "cell_type": "markdown",
   "metadata": {
    "deletable": false,
    "editable": false,
    "nbgrader": {
     "checksum": "cb0b8b9c4b153530d47b437baa24098d",
     "grade": false,
     "grade_id": "cell-b22dce6b32afe1a9",
     "locked": true,
     "schema_version": 1,
     "solution": false
    }
   },
   "source": [
    "### Question 6c\n",
    "\n",
    "Describe here, using at least 100 words, how you would perform this calculation using a Python class."
   ]
  },
  {
   "cell_type": "markdown",
   "metadata": {
    "deletable": false,
    "nbgrader": {
     "checksum": "eb02c9951e19ee43d128fa93dd53eaad",
     "grade": true,
     "grade_id": "cell-5ecb51404140cb2f",
     "locked": false,
     "points": 0,
     "schema_version": 1,
     "solution": true
    }
   },
   "source": [
    "First, I would create a class\n",
    "\n",
    "CourseGrades(\"name\", CO, LO, Weight, Grade, CO Grade, Course Grade) \n",
    "\n",
    "Where each data point for each grade is stored in nested lists. \n",
    "\n",
    "Then, I would add methods that would append to the next lists for each grade that the student wishes to include in the data set. \n",
    "\n",
    "Next, for the operations, I would create different methods for calculating the different aspects (LO average, CO average and CG). \n",
    "\n",
    "Then these methods would return specific data points of query. "
   ]
  },
  {
   "cell_type": "code",
   "execution_count": null,
   "metadata": {},
   "outputs": [],
   "source": []
  }
 ],
 "metadata": {
  "kernelspec": {
   "display_name": "Python 3",
   "language": "python",
   "name": "python3"
  },
  "language_info": {
   "codemirror_mode": {
    "name": "ipython",
    "version": 3
   },
   "file_extension": ".py",
   "mimetype": "text/x-python",
   "name": "python",
   "nbconvert_exporter": "python",
   "pygments_lexer": "ipython3",
   "version": "3.6.8"
  }
 },
 "nbformat": 4,
 "nbformat_minor": 2
}
